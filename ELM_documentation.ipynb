{
 "cells": [
  {
   "cell_type": "markdown",
   "id": "f090c45c-daca-4223-969e-32106aa02e4d",
   "metadata": {
    "tags": []
   },
   "source": [
    "# Running ELM on NERSC\n",
    "## Navigating NERSC\n",
    "### Open NERSC user account (for new users)\n",
    "Follow the  <a href=\"https://docs.nersc.gov/accounts/\">instructions</a> to open an account on NERSC: \n",
    "### Connecting to NERSC\n",
    "Enable <a href=\"https://docs.nersc.gov/connect/mfa/\">Multi Factor Authetication (MFA)</a> to access NERSC resources.\n",
    "\n",
    "`ssh <user>@perlmutter-p1.nersc.gov` (for Perlmutter)<br>\n",
    "`ssh <user>@cori.nersc.gov` (for Cori)\n",
    "\n",
    "### Data transfer between NERSC and local machine\n",
    "Transferring <a href=\"https://docs.nersc.gov/services/scp/\">a file using scp and directory using tar+ssh</a> into/out of NERSC. \n",
    "For transferring large files/folders they should be zipped before transferring.<br>"
   ]
  },
  {
   "cell_type": "markdown",
   "id": "2fc9fd46-fb00-43be-9004-ddc32f24a55c",
   "metadata": {},
   "source": [
    "## Setting up <a href=\"https://elm-unofficial-guide.readthedocs.io/en/latest/getting_started.html\">ELM</a>\n",
    "This documentation is generated using <a href=\"https://elm-unofficial-guide.readthedocs.io/en/latest/index.html\">ELM</a>, <a href=\"https://escomp.github.io/ctsm-docs/versions/master/html/index.html\">CTSM</a>, <a href=\"https://escomp.github.io/CESM/release-cesm2/index.html#\">CESM</a> and <a href=\"https://escomp.github.io/CESM/release-cesm2/index.html\">CIME</a> documentation and an <a href=https://github.com/donghuix/Setup-E3SM-Mac/blob/master/Setup-E3SM-on-Mac.md>example</a>.<br>\n",
    "### Get the code \n",
    "Generate an <a href=\"https://docs.github.com/en/authentication/connecting-to-github-with-ssh/generating-a-new-ssh-key-and-adding-it-to-the-ssh-agent\">SSH key on GitHub</a>  before cloning.<br>\n",
    "`git clone https://github.com/E3SM-Project/E3SM`<br>\n",
    "`cd E3SM`<br>\n",
    "`git submodule update --init --recursive`<br>"
   ]
  },
  {
   "cell_type": "markdown",
   "id": "928616d9-3b1c-4bbc-bfe5-f8ed311f566d",
   "metadata": {},
   "source": [
    "### Create user defined domain and surface daatset\n",
    "A <a href=https://github.com/ftzahura/SettingUpELM/blob/main/CreateSurfdataDomainNetcdf.ipynb>python</a> script was generated to create unstructured domain and surface dataset for user define watershed.<br>\n",
    "The python script was generated following this <a href=\"https://github.com/bishtgautam/matlab-script-for-clm-sparse-grid\">Matlab script </a> to generate similar outputs.\n",
    "\n",
    "Transfer the files on NERSC if using local machine<br>\n",
    "`scp /<local-directory>/<name-of-domain-file> user@dtn01.nersc.gov:<dir-path-to-domain-file>`<br>\n",
    "`scp /<local-directory>/<name-of-surface-file> user@dtn01.nersc.gov:<dir-path-to-surface-file>`"
   ]
  },
  {
   "cell_type": "markdown",
   "id": "f4c24171-ebc8-404d-81f6-cf13b70b1a7d",
   "metadata": {
    "tags": []
   },
   "source": [
    "### Create a new case \n",
    "Specify resolution `-res <>` and compset `-compset <>` on an E3SM-supported machine.<br>\n",
    "`cd cime/scripts`<br>\n",
    "`./create_newcase -case <casename> -res ELM_USRDAT -compset IELM -project <yourprojectallocation>` <br>\n",
    "\n",
    "Go to the case directory<br>\n",
    "`cd <casename>`<br>"
   ]
  },
  {
   "cell_type": "markdown",
   "id": "a03e1e7f-ece4-48f7-ac13-ee07d52654b3",
   "metadata": {
    "tags": []
   },
   "source": [
    "### Making modifications to the case and case setup\n",
    "\n",
    "#### Specify run period\n",
    "Change the default 5-day run to be 1-year run and set up the start date<br>\n",
    "`./xmlchange STOP_N=1,STOP_OPTION=nyears`<br>\n",
    "`./xmlchange RUN_STARTDATE=1980-01-01`\n",
    "#### Location of outputs\n",
    "Query the dir where the output will be saved<br>\n",
    "`./xmlquery RUNDIR`\n",
    "#### Wallclock time and number of processors\n",
    "Set the wallclock time anf number of processors for simualtion. Higher wallclock time and number of processors would cause longer wait period. Default `NTASKS` is 256 (4 nodes) <br> \n",
    "`./xmlchange JOB_WALLCLOCK_TIME=\"02:00:00\" --subgroup case.run`<br>\n",
    "`./xmlchange NTASKS=<number-of-processors>`<br>\n",
    "`./xmlquery JOB_QUEUE,NTASKS,JOB_WALLCLOCK_TIME`<br>\n",
    "\n",
    "#### Point to the new domain file:<br>\n",
    "`./xmlchange LND_DOMAIN_FILE=<name-of-domain-file>`<br>\n",
    "`./xmlchange ATM_DOMAIN_FILE=<name-of-domain-file>`<br>\n",
    "`./xmlchange LND_DOMAIN_PATH=<dir-path-to-domain-file>`<br>\n",
    "`./xmlchange ATM_DOMAIN_PATH=<dir-path-to-domain-file>`<br>"
   ]
  },
  {
   "cell_type": "markdown",
   "id": "77dc11ea-0d5a-4e73-b0dc-17fa8147f20e",
   "metadata": {},
   "source": [
    "#### Point to the new surface dataset:<br>\n",
    "`cat >> user_nl_elm << EOF`<br>\n",
    "`fsurdat = '<full-path-and-filename-of-new-surface-dataset>'`<br>\n",
    "`EOF`<br>\n",
    "\n",
    "#### Customizing `user_nl_elm`\n",
    "The defaulut output from ELM is monthy history files with >200 variables. To only get the variables of interest the `user_nl_elm` needs to be edited. `hist_empty_htapes` removes all default variables and `hist_fincl1` only includes select variables to the monthly history files.<br>\n",
    "`cat >> user_nl_elm << EOF`<br>\n",
    "`&elm_inparm`<br>\n",
    "  `hist_empty_htapes = .true.`<br>\n",
    "  `hist_fincl1 = 'TG', 'TV', 'FSA'`<br>\n",
    "`/`<br>\n",
    "`EOF`<br>\n",
    "Examples of customizing `user_nl_elm` can be found <a href=\"https://escomp.github.io/ctsm-docs/versions/master/html/users_guide/setting-up-and-running-a-case/customizing-the-clm-namelist.html\">in the CLM documnetation</a>. \n",
    "The output frequency is monthly averged by default. the default averaging output can be changed by modiying `user_nl_elm`:\n",
    "1. Using `hist_avgflag_pertape` to give a default value for each history stream\n",
    "2. Using hist_fincl*, while addind fields, the averaging flag van be assigned after the field name with a colon (:) (for example ‘TSOI:X’, would output the maximum of TSOI).<br>\n",
    "The types of averaging that can be done are:\n",
    "- A Average, over the output interval.\n",
    "- I Instantaneous, output the value at the output interval.\n",
    "- X Maximum, over the output interval.\n",
    "- M Minimum, over the output interval.\n",
    "3. The default monthly can be changed by assigning `hist_nhtfrq` to -1 (hourly),-6 (six hourly),-24 (daily), 0 (monthly), 1 (each model time step)\n"
   ]
  },
  {
   "cell_type": "markdown",
   "id": "77328b73-e1d0-4873-a104-3dfc17210197",
   "metadata": {},
   "source": [
    "#### Changing DATM forcing\n",
    "The default `DATM_MODE` in ELM is `CLM_QIAN`. To use NLDAS forcing change the forcing mode and period.<br>\n",
    "`./xmlchange DATM_MODE=CLMNLDAS2`<br>\n",
    "`./xmlchange DATM_CLMNCEP_YR_START=1980`<br>\n",
    "`./xmlchange DATM_CLMNCEP_YR_END=2018`<br>\n",
    "`./xmlchange DATM_CLMNCEP_YR_ALIGN=1980`<br>\n",
    "`./xmlquery  DATM_MODE,DATM_CLMNCEP_YR_START,DATM_CLMNCEP_YR_END,DATM_CLMNCEP_YR_ALIGN`"
   ]
  },
  {
   "cell_type": "markdown",
   "id": "a404bef4-2240-4bee-a4c3-f8b04546f544",
   "metadata": {},
   "source": [
    "#### Case setup \n",
    "`./case.setup`"
   ]
  },
  {
   "cell_type": "markdown",
   "id": "e985ad50-636e-45bc-8825-c93fbdf41d6e",
   "metadata": {},
   "source": [
    "#### Update datm.streams files\n",
    "`CLMNLDAS2` points to folder `/global/cfs/cdirs/e3sm/inputdata/atm/datm7/atm_forcing.datm7.NLDAS2.0.125d.v1`. The `atm_forcing.datm7.NLDAS2.0.125d.v1` folder has subfolders for Precip, Solar, and TPQW. After case setup, in Casedocs folder three data stream files are generated: datm.streams.txt.CLMNLDAS2.Precip, datm.streams.txt.CLMNLDAS2.Solar, datm.streams.txt.CLMNLDAS2.TPQW. \n",
    "\n",
    "case submission was aborted bacause of file missing error: `/global/cfs/cdirs/e3sm/inputdata/share/domains/domain.clm/domain.lnd.0.125nldas2_0.125nldas2.190410.nc`. In `/global/cfs/cdirs/e3sm/inputdata/share/domains/domain.clm/` folder, file `domain.lnd.0.125nldas2_0.125nldas2.190410.nc` did not exist. Downloaded the file (<a href=https://svn-ccsm-inputdata.cgd.ucar.edu/trunk/inputdata/share/domains/domain.clm/>link</a>) and changed the data stream files to point to the file location:\n",
    "\n",
    "`cp ${CASE_DIR}/${CASE_NAM}/CaseDocs/datm.streams.txt.CLMNLDAS2.Precip ${CASE_DIR}/${CASE_NAM}/user_datm.streams.txt.CLMNLDAS2.Precip`<br>\n",
    "`cp ${CASE_DIR}/${CASE_NAM}/CaseDocs/datm.streams.txt.CLMNLDAS2.Solar ${CASE_DIR}/${CASE_NAM}/user_datm.streams.txt.CLMNLDAS2.Solar`<br>\n",
    "`cp ${CASE_DIR}/${CASE_NAM}/CaseDocs/datm.streams.txt.CLMNLDAS2.TPQW ${CASE_DIR}/${CASE_NAM}/user_datm.streams.txt.CLMNLDAS2.TPQW`<br>\n",
    "\n",
    "`chmod +rw ${CASE_DIR}/${CASE_NAM}/user_datm.streams.txt.CLMNLDAS2.Precip`<br>\n",
    "`chmod +rw ${CASE_DIR}/${CASE_NAM}/user_datm.streams.txt.CLMNLDAS2.Solar`<br>\n",
    "`chmod +rw ${CASE_DIR}/${CASE_NAM}/user_datm.streams.txt.CLMNLDAS2.TPQW`<br>\n",
    "\n",
    "`sed -i \"s@/global/cfs/cdirs/e3sm/inputdata/share/domains/domain.clm@<file-path>@g\" ${CASE_DIR}/${CASE_NAM}/user_datm.streams.txt.CLMNLDAS2.Precip`<br>\n",
    "`sed -i \"s@/global/cfs/cdirs/e3sm/inputdata/share/domains/domain.clm@<file-path>@g\" ${CASE_DIR}/${CASE_NAM}/user_datm.streams.txt.CLMNLDAS2.Solar`<br>\n",
    "`sed -i \"s@/global/cfs/cdirs/e3sm/inputdata/share/domains/domain.clm@<file-path>@g\" ${CASE_DIR}/${CASE_NAM}/user_datm.streams.txt.CLMNLDAS2.TPQW`<br>\n"
   ]
  },
  {
   "cell_type": "markdown",
   "id": "222e19d1-423a-4832-b33c-d35b4d57e76f",
   "metadata": {},
   "source": [
    "### Build and Submit the case and get email updates\n",
    "As changes were made after `./case.setup`, it needs to be reset.<br>\n",
    "`./case.setup --reset`<br>\n",
    "<a href=https://esmci.github.io/cime/versions/master/html/users_guide/building-a-case.html>Build the case</a>, submit and get email updates.<br>\n",
    "`./case.build`<br>\n",
    "`./case.submit --mail-user <user-email> --mail-type all` <br>\n",
    "See job status<br>\n",
    "`squeue -u <username>`<br>\n",
    "`squeue --start -j <JOBID>`\n"
   ]
  },
  {
   "cell_type": "markdown",
   "id": "7c97abf4-0295-45fe-bbcc-6872668c540a",
   "metadata": {},
   "source": [
    "### <a href=https://escomp.github.io/ctsm-docs/versions/release-clm5.0/html/users_guide/running-special-cases/Spinning-up-the-Satellite-Phenology-Model-CLMSP-spinup.html>Spin up ELM SP (satellite phenology)</a>\n",
    "Spinning up ELM-SP is straightforward. To spin up, 50 years or more (user's choice) need to be run and the final restart file for initial conditions is used in other simulations. For 50 year spin up, loop over 1 year atmospheric forcing 50 times or 5 years 10 times, etc. Set `RESUBMIT` to specify the number of times to loop over the atmospheric forcing. As `RESUBMIT=0` loops one time, to loop 10 times set it to 9.<br>\n",
    "`./xmlchange STOP_N=5,STOP_OPTION=nyears  # year period per run/resubmit`<br>\n",
    "`./xmlchange RESUBMIT=9` <br>\n",
    "After spin up is finished, create a new case and in `user_nl_elm` point to the final restart file from the spin up simulation, which is located in the `RUNDIR` folder:<br>\n",
    "`cat >> user_nl_elm << EOF`                     \n",
    "`finidat = '<full-path-and-name-of-restart-file>'`"
   ]
  },
  {
   "cell_type": "code",
   "execution_count": null,
   "id": "e51279f8-d546-4a06-b9aa-7d3da38d29fd",
   "metadata": {},
   "outputs": [],
   "source": []
  }
 ],
 "metadata": {
  "kernelspec": {
   "display_name": "Python 3 (ipykernel)",
   "language": "python",
   "name": "python3"
  },
  "language_info": {
   "codemirror_mode": {
    "name": "ipython",
    "version": 3
   },
   "file_extension": ".py",
   "mimetype": "text/x-python",
   "name": "python",
   "nbconvert_exporter": "python",
   "pygments_lexer": "ipython3",
   "version": "3.9.12"
  }
 },
 "nbformat": 4,
 "nbformat_minor": 5
}
